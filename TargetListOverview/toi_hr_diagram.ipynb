{
 "cells": [
  {
   "cell_type": "code",
   "execution_count": 12,
   "metadata": {},
   "outputs": [],
   "source": [
    "import numpy as np\n",
    "import matplotlib.pyplot as plt\n",
    "import pandas as pd\n",
    "from matplotlib import cm"
   ]
  },
  {
   "cell_type": "code",
   "execution_count": 32,
   "metadata": {},
   "outputs": [
    {
     "data": {
      "text/plain": [
       "[4.367186629,\n",
       " 4.623179031,\n",
       " 4.265170944,\n",
       " 4.990127637,\n",
       " 5.235691178,\n",
       " 5.604094923,\n",
       " 5.556042573,\n",
       " 4.998377942,\n",
       " 5.812815628,\n",
       " 4.481217854,\n",
       " 5.288285342,\n",
       " 7.541884663,\n",
       " 4.270675302,\n",
       " 5.537236646,\n",
       " nan,\n",
       " 4.419077709,\n",
       " 10.01741077,\n",
       " 7.906069119]"
      ]
     },
     "execution_count": 32,
     "metadata": {},
     "output_type": "execute_result"
    }
   ],
   "source": [
    "#loading data compiled from GAIA DR3\n",
    "\n",
    "toi_list = pd.read_csv('Cycle3_TOI_List.csv')\n",
    "GaiaMags=pd.read_csv('gaia_mags.csv',header=0)\n",
    "\n",
    "TIC_Num=np.empty_like(GaiaMags['target_id'])\n",
    "for i in range(0,len(GaiaMags)):\n",
    "    TIC_Num[i]=GaiaMags['target_id'][i][4:-1]\n",
    "\n",
    "StellarTeff = GaiaMags['Teff'] #first pass temperatures\n",
    "\n",
    "abs_g_mag = GaiaMags['abs_g_mag']\n",
    "b_minus_r = GaiaMags['blue_minus_red']\n",
    "binary_b_minus_r = []\n",
    "binary_abs_g_mag = []\n",
    "\n",
    "for i in range(len(toi_list)):\n",
    "    if toi_list['Mult?'][i] == 'Y': #mark binary stars\n",
    "        tic_num = str(toi_list['TIC_Number'][i])\n",
    "        gaia_tic_num = 'TIC_'+tic_num+'_'\n",
    "\n",
    "        b_m_r = GaiaMags.loc[GaiaMags['target_id']==gaia_tic_num, 'blue_minus_red'].item()\n",
    "        ab_g_mag = GaiaMags.loc[GaiaMags['target_id']==gaia_tic_num,'abs_g_mag'].item()\n",
    "\n",
    "        binary_b_minus_r.append(b_m_r)\n",
    "        binary_abs_g_mag.append(ab_g_mag)\n",
    "        \n",
    "\n"
   ]
  },
  {
   "cell_type": "code",
   "execution_count": 19,
   "metadata": {},
   "outputs": [
    {
     "data": {
      "image/png": "[encoded data removed]",
      "text/plain": [
       "<Figure size 432x288 with 2 Axes>"
      ]
     },
     "metadata": {
      "needs_background": "light"
     },
     "output_type": "display_data"
    }
   ],
   "source": [
    "#color map with teff\n",
    "import matplotlib.colors as colors\n",
    "\n",
    "\n",
    "def truncate_colormap(cmapIn='RdYlBu', minval=0.0, maxval=1.0, n=100):\n",
    "\n",
    "    cmapIn = plt.get_cmap(cmapIn)\n",
    "\n",
    " \n",
    "\n",
    "    new_cmap = colors.LinearSegmentedColormap.from_list(\n",
    "\n",
    "        'trunc({n},{a:.2f},{b:.2f})'.format(n=cmapIn.name, a=minval, b=maxval),\n",
    "\n",
    "        cmapIn(np.linspace(minval, maxval, n)))\n",
    " \n",
    "\n",
    "    arr = np.linspace(0, 50, 100).reshape((10, 10))\n",
    "\n",
    "    fig, ax = plt.subplots(ncols=2)\n",
    "\n",
    "    ax[0].imshow(arr, interpolation='nearest', cmap=cmapIn)\n",
    "\n",
    "    ax[1].imshow(arr, interpolation='nearest', cmap=new_cmap)\n",
    "\n",
    "    plt.show()\n",
    " \n",
    "    return new_cmap\n",
    "\n",
    "cmap_mod = truncate_colormap(minval=0, maxval=.8)  # calls function to truncate colormap"
   ]
  },
  {
   "cell_type": "code",
   "execution_count": 45,
   "metadata": {},
   "outputs": [
    {
     "data": {
      "image/png": "[encoded data removed]",
      "text/plain": [
       "<Figure size 432x288 with 1 Axes>"
      ]
     },
     "metadata": {
      "needs_background": "light"
     },
     "output_type": "display_data"
    }
   ],
   "source": [
    "#HR Diagram\n",
    "\n",
    "fig=plt.figure()\n",
    "plt.scatter(b_minus_r, abs_g_mag, s=50,c=StellarTeff, cmap = cmap_mod,edgecolor='none',vmin=2500., vmax=8500)\n",
    "plt.plot(binary_b_minus_r, binary_abs_g_mag, 'o',\n",
    "         fillstyle='none', markeredgecolor='black',markeredgewidth=.6,label='binary stars')\n",
    "plt.xlabel('G_Blue - G_Red')\n",
    "plt.ylabel('Abs G Mag')\n",
    "plt.title('Color-Magnitude Diagram of TOIs')\n",
    "plt.ylim([12,2])\n",
    "#plt.legend()\n",
    "\n",
    "plt.show()\n",
    "\n",
    "#fig.savefig('../TargetListOverview/hr_diagram_updated',transparent=False)"
   ]
  },
  {
   "cell_type": "code",
   "execution_count": null,
   "metadata": {},
   "outputs": [],
   "source": []
  }
 ],
 "metadata": {
  "interpreter": {
   "hash": "dca0ade3e726a953b501b15e8e990130d2b7799f14cfd9f4271676035ebe5511"
  },
  "kernelspec": {
   "display_name": "Python 3.7.10 64-bit ('base': conda)",
   "name": "python3"
  },
  "language_info": {
   "codemirror_mode": {
    "name": "ipython",
    "version": 3
   },
   "file_extension": ".py",
   "mimetype": "text/x-python",
   "name": "python",
   "nbconvert_exporter": "python",
   "pygments_lexer": "ipython3",
   "version": "3.7.10"
  },
  "orig_nbformat": 4
 },
 "nbformat": 4,
 "nbformat_minor": 2
}